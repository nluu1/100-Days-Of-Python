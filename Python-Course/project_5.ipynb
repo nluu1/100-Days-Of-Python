{
  "nbformat": 4,
  "nbformat_minor": 0,
  "metadata": {
    "colab": {
      "provenance": []
    },
    "kernelspec": {
      "name": "python3",
      "display_name": "Python 3"
    },
    "language_info": {
      "name": "python"
    }
  },
  "cells": [
    {
      "cell_type": "markdown",
      "source": [
        "## **Name: Nhi Luu**\n",
        "## **Date: 11/12/2022**\n",
        "## **Project 5**: **Wolfram Alpha API**"
      ],
      "metadata": {
        "id": "UQZ2YH9yuv5R"
      }
    },
    {
      "cell_type": "markdown",
      "source": [
        "APP NAME: nluu1@umbc.edu\n",
        "\n",
        "APPID: A65YLR-TXJWYE4486\n",
        "\n",
        "USAGE TYPE: Personal/Non-commercial Only\n",
        "\n",
        "Tutorial Link: https://towardsdatascience.com/build-your-next-project-with-wolfram-alpha-api-and-python-51c2c361d8b9"
      ],
      "metadata": {
        "id": "xmoHOTN3g3rm"
      }
    },
    {
      "cell_type": "markdown",
      "source": [
        "# Part I: Follow tutorial"
      ],
      "metadata": {
        "id": "fvL1HRx5JkF8"
      }
    },
    {
      "cell_type": "markdown",
      "source": [
        "## Setting Up"
      ],
      "metadata": {
        "id": "rSFtts3pu7va"
      }
    },
    {
      "cell_type": "code",
      "execution_count": null,
      "metadata": {
        "id": "PiNscOjsgzDA",
        "colab": {
          "base_uri": "https://localhost:8080/"
        },
        "outputId": "5568a401-3c01-4a3e-e8f8-0f485daa80c0"
      },
      "outputs": [
        {
          "output_type": "stream",
          "name": "stdout",
          "text": [
            "Result: '(9.2 to 11, 52 to 60) days' from AmazingNumbers, TheWikimediaFoundationIncWikipedia (SpeciesData).\n"
          ]
        }
      ],
      "source": [
        "from pprint import pprint\n",
        "import requests\n",
        "import os\n",
        "import urllib.parse\n",
        "\n",
        "appid = 'A65YLR-TXJWYE4486'\n",
        "\n",
        "query = urllib.parse.quote_plus(\"lifespan of a mosquito\")\n",
        "query_url = f\"http://api.wolframalpha.com/v2/query?\" \\\n",
        "             f\"appid={appid}\" \\\n",
        "             f\"&input={query}\" \\\n",
        "             f\"&format=plaintext\" \\\n",
        "             f\"&output=json\"\n",
        "\n",
        "r = requests.get(query_url).json()\n",
        "\n",
        "data = r[\"queryresult\"][\"pods\"][1][\"subpods\"][0]\n",
        "datasource = \", \".join(data[\"datasources\"][\"datasource\"])\n",
        "microsource = data[\"microsources\"][\"microsource\"]\n",
        "plaintext = data[\"plaintext\"]\n",
        "\n",
        "print(f\"Result: '{plaintext}' from {datasource} ({microsource}).\")\n",
        "# Result: '(9.2 to 11, 52 to 60) days' from AmazingNumbers, TheWikimediaFoundationIncWikipedia (SpeciesData).\n"
      ]
    },
    {
      "cell_type": "markdown",
      "source": [
        "### Doing Math"
      ],
      "metadata": {
        "id": "KP2O9mNku-wt"
      }
    },
    {
      "cell_type": "code",
      "source": [
        "equation = \"7 + 2x = 12 - 3x\"\n",
        "query = urllib.parse.quote_plus(f\"solve {equation}\")\n",
        "query_url = f\"http://api.wolframalpha.com/v2/query?\" \\\n",
        "            f\"appid={appid}\" \\\n",
        "            f\"&input={query}\" \\\n",
        "            f\"&includepodid=Result\" \\\n",
        "            f\"&output=json\"\n",
        "\n",
        "r = requests.get(query_url).json()\n",
        "\n",
        "data = r[\"queryresult\"][\"pods\"][0][\"subpods\"][0]\n",
        "plaintext = data[\"plaintext\"]\n",
        "\n",
        "print(f\"Result of {equation} is '{plaintext}'.\")"
      ],
      "metadata": {
        "colab": {
          "base_uri": "https://localhost:8080/"
        },
        "id": "vogv1f-rued0",
        "outputId": "ff223407-2aca-4421-cf64-77e477b845f2"
      },
      "execution_count": null,
      "outputs": [
        {
          "output_type": "stream",
          "name": "stdout",
          "text": [
            "Result of 7 + 2x = 12 - 3x is 'x = 1'.\n"
          ]
        }
      ]
    },
    {
      "cell_type": "code",
      "source": [
        "equation = \"7 + 2x = 12 - 3x\"\n",
        "query = urllib.parse.quote_plus(f\"solve {equation}\")\n",
        "query_url = f\"http://api.wolframalpha.com/v2/query?\" \\\n",
        "            f\"appid={appid}\" \\\n",
        "            f\"&input={query}\" \\\n",
        "            f\"&scanner=Solve\" \\\n",
        "            f\"&podstate=Result__Step-by-step+solution\" \\\n",
        "            \"&format=plaintext\" \\\n",
        "            f\"&output=json\"\n",
        "\n",
        "r = requests.get(query_url).json()\n",
        "\n",
        "data = r[\"queryresult\"][\"pods\"][0][\"subpods\"]\n",
        "result = data[0][\"plaintext\"]\n",
        "steps = data[1][\"plaintext\"]\n",
        "\n",
        "print(f\"Result of {equation} is '{result}'.\\n\")\n",
        "print(f\"Possible steps to solution:\\n\\n{steps}\")"
      ],
      "metadata": {
        "colab": {
          "base_uri": "https://localhost:8080/"
        },
        "id": "TuxaLpPZupbW",
        "outputId": "16dc3662-f7ea-44e3-f728-271efa223c0d"
      },
      "execution_count": null,
      "outputs": [
        {
          "output_type": "stream",
          "name": "stdout",
          "text": [
            "Result of 7 + 2x = 12 - 3x is 'x = 1'.\n",
            "\n",
            "Possible steps to solution:\n",
            "\n",
            "Solve for x:\n",
            "2 x + 7 = -3 x + 12\n",
            "Add 3 x to both sides:\n",
            "3 x + 2 x + 7 = (3 x - 3 x) + 12\n",
            "3 x - 3 x = 0:\n",
            "3 x + 2 x + 7 = 12\n",
            "Grouping like terms, 3 x + 2 x + 7 = (2 x + 3 x) + 7:\n",
            "((2 x + 3 x) + 7) = 12\n",
            "2 x + 3 x = 5 x:\n",
            "5 x + 7 = 12\n",
            "Subtract 7 from both sides:\n",
            "5 x + (7 - 7) = 12 - 7\n",
            "7 - 7 = 0:\n",
            "5 x = 12 - 7\n",
            "12 - 7 = 5:\n",
            "5 x = 5\n",
            "Divide both sides of 5 x = 5 by 5:\n",
            "(5 x)/5 = 5/5\n",
            "5/5 = 1:\n",
            "x = 5/5\n",
            "5/5 = 1:\n",
            "Answer: | \n",
            " | x = 1\n"
          ]
        }
      ]
    },
    {
      "cell_type": "markdown",
      "source": [
        "## Rendering Mathematical Markdown"
      ],
      "metadata": {
        "id": "s8zfBBCivFMo"
      }
    },
    {
      "cell_type": "code",
      "source": [
        "equation = \"7 + 2x = 12 - 3x\"\n",
        "query = urllib.parse.quote_plus(f\"solve {equation}\")\n",
        "query_url = f\"http://api.wolframalpha.com/v2/query?\" \\\n",
        "            f\"appid={appid}\" \\\n",
        "            f\"&input={query}\" \\\n",
        "            f\"&scanner=Solve\" \\\n",
        "            f\"&podstate=Result__Step-by-step+solution\" \\\n",
        "            \"&format=mathml\" \\\n",
        "            f\"&output=json\"\n",
        "\n",
        "r = requests.get(query_url).json()\n",
        "\n",
        "data = r[\"queryresult\"][\"pods\"][0][\"subpods\"]\n",
        "result = data[0][\"mathml\"]\n",
        "steps = data[1][\"mathml\"]\n",
        "\n",
        "print(f\"MathML result of {equation} is:\\n\")\n",
        "print(f\"{result}\")\n",
        "print(f\"Possible steps to solution:\\n\\n{steps}\")"
      ],
      "metadata": {
        "id": "I3RhqaMVuz00",
        "colab": {
          "base_uri": "https://localhost:8080/"
        },
        "outputId": "70dd7ffd-f9d5-45c4-92b3-0b322fa6b79c"
      },
      "execution_count": null,
      "outputs": [
        {
          "output_type": "stream",
          "name": "stdout",
          "text": [
            "MathML result of 7 + 2x = 12 - 3x is:\n",
            "\n",
            "<math xmlns='http://www.w3.org/1998/Math/MathML'\n",
            "    mathematica:form='StandardForm'\n",
            "    xmlns:mathematica='http://www.wolfram.com/XML/'>\n",
            " <mrow>\n",
            "  <mi>x</mi>\n",
            "  <mo>=</mo>\n",
            "  <mn>1</mn>\n",
            " </mrow>\n",
            "</math>\n",
            "Possible steps to solution:\n",
            "\n",
            "<math xmlns='http://www.w3.org/1998/Math/MathML'\n",
            "    mathematica:form='StandardForm'\n",
            "    xmlns:mathematica='http://www.wolfram.com/XML/'>\n",
            " <mtable displaystyle='true'>\n",
            "  <mtr>\n",
            "   <mtd>\n",
            "    <mtable displaystyle='true'>\n",
            "     <mtr>\n",
            "      <mtd>\n",
            "       <mrow>\n",
            "        <mrow>\n",
            "         <mrow>\n",
            "          <mtext>Solve for </mtext>\n",
            "          <mi>x</mi>\n",
            "         </mrow>\n",
            "        </mrow>\n",
            "        <mo>:</mo>\n",
            "       </mrow>\n",
            "      </mtd>\n",
            "     </mtr>\n",
            "     <mtr>\n",
            "      <mtd>\n",
            "       <mrow>\n",
            "        <mrow>\n",
            "         <mrow>\n",
            "          <mrow>\n",
            "           <mn>2</mn>\n",
            "           <mo>&#8290;</mo>\n",
            "           <mi>x</mi>\n",
            "          </mrow>\n",
            "          <mo>+</mo>\n",
            "          <mn>7</mn>\n",
            "         </mrow>\n",
            "         <mo>=</mo>\n",
            "         <mrow>\n",
            "          <mrow>\n",
            "           <mo>-</mo>\n",
            "           <mn>3</mn>\n",
            "           <mo>&#8290;</mo>\n",
            "           <mi>x</mi>\n",
            "          </mrow>\n",
            "          <mo>+</mo>\n",
            "          <mn>12</mn>\n",
            "         </mrow>\n",
            "        </mrow>\n",
            "       </mrow>\n",
            "      </mtd>\n",
            "     </mtr>\n",
            "    </mtable>\n",
            "   </mtd>\n",
            "  </mtr>\n",
            "  <mtr>\n",
            "   <mtd>\n",
            "    <mtable displaystyle='true'>\n",
            "     <mtr>\n",
            "      <mtd>\n",
            "       <mrow>\n",
            "        <mrow>\n",
            "         <mtext>Add </mtext>\n",
            "         <mrow>\n",
            "          <mrow>\n",
            "           <mn>3</mn>\n",
            "           <mo>&#8290;</mo>\n",
            "           <mi>x</mi>\n",
            "          </mrow>\n",
            "          <mtext> </mtext>\n",
            "         </mrow>\n",
            "         <mtext>to </mtext>\n",
            "         <mtext>both </mtext>\n",
            "         <mi>sides</mi>\n",
            "        </mrow>\n",
            "        <mo>:</mo>\n",
            "       </mrow>\n",
            "      </mtd>\n",
            "     </mtr>\n",
            "     <mtr>\n",
            "      <mtd>\n",
            "       <mrow>\n",
            "        <mrow>\n",
            "         <mrow>\n",
            "          <mn>3</mn>\n",
            "          <mo>&#8290;</mo>\n",
            "          <mi>x</mi>\n",
            "         </mrow>\n",
            "         <mo>+</mo>\n",
            "         <mrow>\n",
            "          <mn>2</mn>\n",
            "          <mo>&#8290;</mo>\n",
            "          <mi>x</mi>\n",
            "         </mrow>\n",
            "         <mo>+</mo>\n",
            "         <mn>7</mn>\n",
            "        </mrow>\n",
            "        <mo>=</mo>\n",
            "        <mrow>\n",
            "         <mrow>\n",
            "          <mo>(</mo>\n",
            "          <mrow>\n",
            "           <mrow>\n",
            "            <mn>3</mn>\n",
            "            <mo>&#8290;</mo>\n",
            "            <mi>x</mi>\n",
            "           </mrow>\n",
            "           <mo>-</mo>\n",
            "           <mrow>\n",
            "            <mrow>\n",
            "             <mn>3</mn>\n",
            "            </mrow>\n",
            "            <mo>&#8290;</mo>\n",
            "            <mi>x</mi>\n",
            "           </mrow>\n",
            "          </mrow>\n",
            "          <mo>)</mo>\n",
            "         </mrow>\n",
            "         <mo>+</mo>\n",
            "         <mn>12</mn>\n",
            "        </mrow>\n",
            "       </mrow>\n",
            "      </mtd>\n",
            "     </mtr>\n",
            "    </mtable>\n",
            "   </mtd>\n",
            "  </mtr>\n",
            "  <mtr>\n",
            "   <mtd>\n",
            "    <mtable displaystyle='true'>\n",
            "     <mtr>\n",
            "      <mtd>\n",
            "       <mrow>\n",
            "        <mrow>\n",
            "         <mrow>\n",
            "          <mrow>\n",
            "           <mrow>\n",
            "            <mn>3</mn>\n",
            "            <mo>&#8290;</mo>\n",
            "            <mi>x</mi>\n",
            "           </mrow>\n",
            "           <mo>-</mo>\n",
            "           <mrow>\n",
            "            <mrow>\n",
            "             <mn>3</mn>\n",
            "            </mrow>\n",
            "            <mo>&#8290;</mo>\n",
            "            <mi>x</mi>\n",
            "           </mrow>\n",
            "          </mrow>\n",
            "          <mo>=</mo>\n",
            "          <mn>0</mn>\n",
            "         </mrow>\n",
            "        </mrow>\n",
            "        <mo>:</mo>\n",
            "       </mrow>\n",
            "      </mtd>\n",
            "     </mtr>\n",
            "     <mtr>\n",
            "      <mtd>\n",
            "       <mrow>\n",
            "        <mrow>\n",
            "         <mrow>\n",
            "          <mn>3</mn>\n",
            "          <mo>&#8290;</mo>\n",
            "          <mi>x</mi>\n",
            "         </mrow>\n",
            "         <mo>+</mo>\n",
            "         <mrow>\n",
            "          <mn>2</mn>\n",
            "          <mo>&#8290;</mo>\n",
            "          <mi>x</mi>\n",
            "         </mrow>\n",
            "         <mo>+</mo>\n",
            "         <mn>7</mn>\n",
            "        </mrow>\n",
            "        <mo>=</mo>\n",
            "        <mn>12</mn>\n",
            "       </mrow>\n",
            "      </mtd>\n",
            "     </mtr>\n",
            "    </mtable>\n",
            "   </mtd>\n",
            "  </mtr>\n",
            "  <mtr>\n",
            "   <mtd>\n",
            "    <mtable displaystyle='true'>\n",
            "     <mtr>\n",
            "      <mtd>\n",
            "       <mrow>\n",
            "        <mrow>\n",
            "         <mtext>Grouping </mtext>\n",
            "         <mtext>like </mtext>\n",
            "         <mtext>terms, </mtext>\n",
            "         <mrow>\n",
            "          <mrow>\n",
            "           <mrow>\n",
            "            <mn>3</mn>\n",
            "            <mo>&#8290;</mo>\n",
            "            <mi>x</mi>\n",
            "           </mrow>\n",
            "           <mo>+</mo>\n",
            "           <mrow>\n",
            "            <mn>2</mn>\n",
            "            <mo>&#8290;</mo>\n",
            "            <mi>x</mi>\n",
            "           </mrow>\n",
            "           <mo>+</mo>\n",
            "           <mn>7</mn>\n",
            "          </mrow>\n",
            "          <mo>=</mo>\n",
            "          <mrow>\n",
            "           <mrow>\n",
            "            <mo>(</mo>\n",
            "            <mrow>\n",
            "             <mrow>\n",
            "              <mn>2</mn>\n",
            "              <mo>&#8290;</mo>\n",
            "              <mi>x</mi>\n",
            "             </mrow>\n",
            "             <mo>+</mo>\n",
            "             <mrow>\n",
            "              <mn>3</mn>\n",
            "              <mo>&#8290;</mo>\n",
            "              <mi>x</mi>\n",
            "             </mrow>\n",
            "            </mrow>\n",
            "            <mo>)</mo>\n",
            "           </mrow>\n",
            "           <mo>+</mo>\n",
            "           <mn>7</mn>\n",
            "          </mrow>\n",
            "         </mrow>\n",
            "        </mrow>\n",
            "        <mo>:</mo>\n",
            "       </mrow>\n",
            "      </mtd>\n",
            "     </mtr>\n",
            "     <mtr>\n",
            "      <mtd>\n",
            "       <mrow>\n",
            "        <mrow>\n",
            "         <mo>(</mo>\n",
            "         <mrow>\n",
            "          <mrow>\n",
            "           <mo>(</mo>\n",
            "           <mrow>\n",
            "            <mrow>\n",
            "             <mn>2</mn>\n",
            "             <mo>&#8290;</mo>\n",
            "             <mi>x</mi>\n",
            "            </mrow>\n",
            "            <mo>+</mo>\n",
            "            <mrow>\n",
            "             <mn>3</mn>\n",
            "             <mo>&#8290;</mo>\n",
            "             <mi>x</mi>\n",
            "            </mrow>\n",
            "           </mrow>\n",
            "           <mo>)</mo>\n",
            "          </mrow>\n",
            "          <mo>+</mo>\n",
            "          <mn>7</mn>\n",
            "         </mrow>\n",
            "         <mo>)</mo>\n",
            "        </mrow>\n",
            "        <mo>=</mo>\n",
            "        <mn>12</mn>\n",
            "       </mrow>\n",
            "      </mtd>\n",
            "     </mtr>\n",
            "    </mtable>\n",
            "   </mtd>\n",
            "  </mtr>\n",
            "  <mtr>\n",
            "   <mtd>\n",
            "    <mtable displaystyle='true'>\n",
            "     <mtr>\n",
            "      <mtd>\n",
            "       <mrow>\n",
            "        <mrow>\n",
            "         <mrow>\n",
            "          <mrow>\n",
            "           <mrow>\n",
            "            <mrow>\n",
            "             <mn>2</mn>\n",
            "             <mo>&#8290;</mo>\n",
            "             <mi>x</mi>\n",
            "            </mrow>\n",
            "            <mo>+</mo>\n",
            "            <mrow>\n",
            "             <mn>3</mn>\n",
            "             <mo>&#8290;</mo>\n",
            "             <mi>x</mi>\n",
            "            </mrow>\n",
            "           </mrow>\n",
            "           <mo>=</mo>\n",
            "           <mrow>\n",
            "            <mn>5</mn>\n",
            "            <mo>&#8290;</mo>\n",
            "            <mi>x</mi>\n",
            "           </mrow>\n",
            "          </mrow>\n",
            "         </mrow>\n",
            "        </mrow>\n",
            "        <mo>:</mo>\n",
            "       </mrow>\n",
            "      </mtd>\n",
            "     </mtr>\n",
            "     <mtr>\n",
            "      <mtd>\n",
            "       <mrow>\n",
            "        <mrow>\n",
            "         <mrow>\n",
            "          <mn>5</mn>\n",
            "          <mo>&#8290;</mo>\n",
            "          <mi>x</mi>\n",
            "         </mrow>\n",
            "         <mo>+</mo>\n",
            "         <mn>7</mn>\n",
            "        </mrow>\n",
            "        <mo>=</mo>\n",
            "        <mn>12</mn>\n",
            "       </mrow>\n",
            "      </mtd>\n",
            "     </mtr>\n",
            "    </mtable>\n",
            "   </mtd>\n",
            "  </mtr>\n",
            "  <mtr>\n",
            "   <mtd>\n",
            "    <mtable displaystyle='true'>\n",
            "     <mtr>\n",
            "      <mtd>\n",
            "       <mrow>\n",
            "        <mrow>\n",
            "         <mtext>Subtract </mtext>\n",
            "         <mrow>\n",
            "          <mn>7</mn>\n",
            "          <mtext> </mtext>\n",
            "         </mrow>\n",
            "         <mtext>from </mtext>\n",
            "         <mtext>both </mtext>\n",
            "         <mi>sides</mi>\n",
            "        </mrow>\n",
            "        <mo>:</mo>\n",
            "       </mrow>\n",
            "      </mtd>\n",
            "     </mtr>\n",
            "     <mtr>\n",
            "      <mtd>\n",
            "       <mrow>\n",
            "        <mrow>\n",
            "         <mrow>\n",
            "          <mn>5</mn>\n",
            "          <mo>&#8290;</mo>\n",
            "          <mi>x</mi>\n",
            "         </mrow>\n",
            "         <mo>+</mo>\n",
            "         <mrow>\n",
            "          <mo>(</mo>\n",
            "          <mrow>\n",
            "           <mn>7</mn>\n",
            "           <mo>-</mo>\n",
            "           <mn>7</mn>\n",
            "          </mrow>\n",
            "          <mo>)</mo>\n",
            "         </mrow>\n",
            "        </mrow>\n",
            "        <mo>=</mo>\n",
            "        <mrow>\n",
            "         <mn>12</mn>\n",
            "         <mo>-</mo>\n",
            "         <mn>7</mn>\n",
            "        </mrow>\n",
            "       </mrow>\n",
            "      </mtd>\n",
            "     </mtr>\n",
            "    </mtable>\n",
            "   </mtd>\n",
            "  </mtr>\n",
            "  <mtr>\n",
            "   <mtd>\n",
            "    <mtable displaystyle='true'>\n",
            "     <mtr>\n",
            "      <mtd>\n",
            "       <mrow>\n",
            "        <mrow>\n",
            "         <mrow>\n",
            "          <mrow>\n",
            "           <mn>7</mn>\n",
            "           <mo>-</mo>\n",
            "           <mn>7</mn>\n",
            "          </mrow>\n",
            "          <mo>=</mo>\n",
            "          <mn>0</mn>\n",
            "         </mrow>\n",
            "        </mrow>\n",
            "        <mo>:</mo>\n",
            "       </mrow>\n",
            "      </mtd>\n",
            "     </mtr>\n",
            "     <mtr>\n",
            "      <mtd>\n",
            "       <mrow>\n",
            "        <mrow>\n",
            "         <mn>5</mn>\n",
            "         <mo>&#8290;</mo>\n",
            "         <mi>x</mi>\n",
            "        </mrow>\n",
            "        <mo>=</mo>\n",
            "        <mrow>\n",
            "         <mn>12</mn>\n",
            "         <mo>-</mo>\n",
            "         <mn>7</mn>\n",
            "        </mrow>\n",
            "       </mrow>\n",
            "      </mtd>\n",
            "     </mtr>\n",
            "    </mtable>\n",
            "   </mtd>\n",
            "  </mtr>\n",
            "  <mtr>\n",
            "   <mtd>\n",
            "    <mtable displaystyle='true'>\n",
            "     <mtr>\n",
            "      <mtd>\n",
            "       <mrow>\n",
            "        <mrow>\n",
            "         <mrow>\n",
            "          <mrow>\n",
            "           <mn>12</mn>\n",
            "           <mo>-</mo>\n",
            "           <mn>7</mn>\n",
            "          </mrow>\n",
            "          <mo>=</mo>\n",
            "          <mn>5</mn>\n",
            "         </mrow>\n",
            "        </mrow>\n",
            "        <mo>:</mo>\n",
            "       </mrow>\n",
            "      </mtd>\n",
            "     </mtr>\n",
            "     <mtr>\n",
            "      <mtd>\n",
            "       <mrow>\n",
            "        <mrow>\n",
            "         <mn>5</mn>\n",
            "         <mo>&#8290;</mo>\n",
            "         <mi>x</mi>\n",
            "        </mrow>\n",
            "        <mo>=</mo>\n",
            "        <mn>5</mn>\n",
            "       </mrow>\n",
            "      </mtd>\n",
            "     </mtr>\n",
            "    </mtable>\n",
            "   </mtd>\n",
            "  </mtr>\n",
            "  <mtr>\n",
            "   <mtd>\n",
            "    <mtable displaystyle='true'>\n",
            "     <mtr>\n",
            "      <mtd>\n",
            "       <mrow>\n",
            "        <mrow>\n",
            "         <mtext>Divide </mtext>\n",
            "         <mtext>both </mtext>\n",
            "         <mtext>sides </mtext>\n",
            "         <mtext>of </mtext>\n",
            "         <mrow>\n",
            "          <mrow>\n",
            "           <mrow>\n",
            "            <mn>5</mn>\n",
            "            <mo>&#8290;</mo>\n",
            "            <mi>x</mi>\n",
            "           </mrow>\n",
            "           <mo>=</mo>\n",
            "           <mn>5</mn>\n",
            "          </mrow>\n",
            "          <mtext> </mtext>\n",
            "         </mrow>\n",
            "         <mtext>by </mtext>\n",
            "         <mn>5</mn>\n",
            "        </mrow>\n",
            "        <mo>:</mo>\n",
            "       </mrow>\n",
            "      </mtd>\n",
            "     </mtr>\n",
            "     <mtr>\n",
            "      <mtd>\n",
            "       <mrow>\n",
            "        <mfrac>\n",
            "         <mrow>\n",
            "          <mn>5</mn>\n",
            "          <mo>&#8290;</mo>\n",
            "          <mi>x</mi>\n",
            "         </mrow>\n",
            "         <mn>5</mn>\n",
            "        </mfrac>\n",
            "        <mo>=</mo>\n",
            "        <mfrac>\n",
            "         <mn>5</mn>\n",
            "         <mn>5</mn>\n",
            "        </mfrac>\n",
            "       </mrow>\n",
            "      </mtd>\n",
            "     </mtr>\n",
            "    </mtable>\n",
            "   </mtd>\n",
            "  </mtr>\n",
            "  <mtr>\n",
            "   <mtd>\n",
            "    <mtable displaystyle='true'>\n",
            "     <mtr>\n",
            "      <mtd>\n",
            "       <mrow>\n",
            "        <mrow>\n",
            "         <mrow>\n",
            "          <mfrac>\n",
            "           <mn>5</mn>\n",
            "           <mn>5</mn>\n",
            "          </mfrac>\n",
            "          <mo>=</mo>\n",
            "          <mn>1</mn>\n",
            "         </mrow>\n",
            "        </mrow>\n",
            "        <mo>:</mo>\n",
            "       </mrow>\n",
            "      </mtd>\n",
            "     </mtr>\n",
            "     <mtr>\n",
            "      <mtd>\n",
            "       <mrow>\n",
            "        <mi>x</mi>\n",
            "        <mo>=</mo>\n",
            "        <mfrac>\n",
            "         <mn>5</mn>\n",
            "         <mn>5</mn>\n",
            "        </mfrac>\n",
            "       </mrow>\n",
            "      </mtd>\n",
            "     </mtr>\n",
            "    </mtable>\n",
            "   </mtd>\n",
            "  </mtr>\n",
            "  <mtr>\n",
            "   <mtd>\n",
            "    <mtable displaystyle='true'>\n",
            "     <mtr>\n",
            "      <mtd>\n",
            "       <mrow>\n",
            "        <mrow>\n",
            "         <mrow>\n",
            "          <mfrac>\n",
            "           <mn>5</mn>\n",
            "           <mn>5</mn>\n",
            "          </mfrac>\n",
            "          <mo>=</mo>\n",
            "          <mn>1</mn>\n",
            "         </mrow>\n",
            "        </mrow>\n",
            "        <mo>:</mo>\n",
            "       </mrow>\n",
            "      </mtd>\n",
            "     </mtr>\n",
            "     <mtr>\n",
            "      <mtd>\n",
            "       <mtable displaystyle='true'>\n",
            "        <mtr>\n",
            "         <mtd>\n",
            "          <mrow>\n",
            "           <mtext>Answer:</mtext>\n",
            "          </mrow>\n",
            "         </mtd>\n",
            "         <mtd>\n",
            "          <mtext> </mtext>\n",
            "         </mtd>\n",
            "        </mtr>\n",
            "        <mtr>\n",
            "         <mtd />\n",
            "         <mtd>\n",
            "          <mrow>\n",
            "           <mi>x</mi>\n",
            "           <mo>=</mo>\n",
            "           <mn>1</mn>\n",
            "          </mrow>\n",
            "         </mtd>\n",
            "        </mtr>\n",
            "       </mtable>\n",
            "      </mtd>\n",
            "     </mtr>\n",
            "    </mtable>\n",
            "   </mtd>\n",
            "  </mtr>\n",
            " </mtable>\n",
            "</math>\n"
          ]
        }
      ]
    },
    {
      "cell_type": "markdown",
      "source": [
        "## Solving Boolean Algebra"
      ],
      "metadata": {
        "id": "r52PjYhLvKyn"
      }
    },
    {
      "cell_type": "code",
      "source": [
        "formula = \"((P AND (Q IMPLIES R)) OR S) AND T\"\n",
        "query = urllib.parse.quote_plus(f\"solve {formula}\")\n",
        "query_url = f\"http://api.wolframalpha.com/v2/query?\" \\\n",
        "            f\"appid={appid}\" \\\n",
        "            f\"&input=solve {formula}\" \\\n",
        "            f\"&output=json\" \\\n",
        "            f\"&includepodid=Input\" \\\n",
        "            f\"&includepodid=MinimalForms\" \\\n",
        "            f\"&includepodid=TruthDensity\"\n",
        "\n",
        "r = requests.get(query_url).json()\n",
        "\n",
        "pods = r[\"queryresult\"][\"pods\"]\n",
        "expression = pods[0][\"subpods\"][0][\"plaintext\"]\n",
        "min_forms = \"\\n\".join(pods[1][\"subpods\"][0][\"plaintext\"].split(\"\\n\")[:-1])\n",
        "truth_density = pods[2][\"subpods\"][0][\"plaintext\"].split(\"=\")\n",
        "\n",
        "print(f\"Expression {expression}: \\n\")\n",
        "print(f\"{min_forms}\\n\")\n",
        "print(f\"Truth density equals {truth_density[0]} which is {truth_density[1]}\")"
      ],
      "metadata": {
        "colab": {
          "base_uri": "https://localhost:8080/"
        },
        "id": "O6gZPcemu4Q2",
        "outputId": "1a6e5d35-da91-4d1b-cf3e-ba73039413cb"
      },
      "execution_count": null,
      "outputs": [
        {
          "output_type": "stream",
          "name": "stdout",
          "text": [
            "Expression ((P ∧ (Q implies R)) ∨ S) ∧ T: \n",
            "\n",
            "DNF | (P ∧ ¬Q ∧ T) ∨ (P ∧ R ∧ T) ∨ (S ∧ T)\n",
            "CNF | (P ∨ S) ∧ (¬Q ∨ R ∨ S) ∧ T\n",
            "ANF | (P ∧ T) ⊻ (S ∧ T) ⊻ (P ∧ Q ∧ T) ⊻ (P ∧ S ∧ T) ⊻ (P ∧ Q ∧ R ∧ T) ⊻ (P ∧ Q ∧ S ∧ T) ⊻ (P ∧ Q ∧ R ∧ S ∧ T)\n",
            "NOR | (P ⊽ S) ⊽ (¬Q ⊽ R ⊽ S) ⊽ ¬T\n",
            "NAND | (P ⊼ ¬Q ⊼ T) ⊼ (P ⊼ R ⊼ T) ⊼ (S ⊼ T)\n",
            "AND | ¬(¬P ∧ ¬S) ∧ ¬(Q ∧ ¬R ∧ ¬S) ∧ T\n",
            "OR | ¬(¬P ∨ Q ∨ ¬T) ∨ ¬(¬P ∨ ¬R ∨ ¬T) ∨ ¬(¬S ∨ ¬T)\n",
            "\n",
            "Truth density equals 11/32 which is 34.375%\n"
          ]
        }
      ]
    },
    {
      "cell_type": "markdown",
      "source": [
        "## Rendering & Downloading Plots"
      ],
      "metadata": {
        "id": "yJ0fvBE8vQTX"
      }
    },
    {
      "cell_type": "code",
      "source": [
        "function = \"sin x cos y\"\n",
        "query = f\"plot {function}\"\n",
        "query_url = f\"http://api.wolframalpha.com/v2/query?\" \\\n",
        "            f\"appid={appid}\" \\\n",
        "            f\"&input={query}\" \\\n",
        "            f\"&output=json\" \\\n",
        "            f\"&includepodid=3DPlot\" \\\n",
        "            f\"&includepodid=ContourPlot\"\n",
        "\n",
        "r = requests.get(query_url).json()\n",
        "\n",
        "pods = r[\"queryresult\"][\"pods\"]\n",
        "plot_3d_url = pods[0][\"subpods\"][0][\"img\"][\"src\"]\n",
        "plot_contour_url = pods[1][\"subpods\"][0][\"img\"][\"src\"]\n",
        "\n",
        "img_name = \"3d_plot.jpg\"\n",
        "img_data = requests.get(plot_3d_url).content\n",
        "with open(img_name, 'wb') as handler:\n",
        "    handler.write(img_data)\n",
        "    print(f\"3D Plot Image Saved to {img_name}.\")"
      ],
      "metadata": {
        "colab": {
          "base_uri": "https://localhost:8080/"
        },
        "id": "EXO9dsuZu7gC",
        "outputId": "71b181e8-b1dd-4f42-c1f5-3e0757fdf2f5"
      },
      "execution_count": null,
      "outputs": [
        {
          "output_type": "stream",
          "name": "stdout",
          "text": [
            "3D Plot Image Saved to 3d_plot.jpg.\n"
          ]
        }
      ]
    },
    {
      "cell_type": "code",
      "source": [
        "#https://stackoverflow.com/questions/64258200/how-to-show-image-from-folder-in-google-colab\n",
        "from IPython import display\n",
        "display.Image(\"/content/3d_plot.jpg\")"
      ],
      "metadata": {
        "colab": {
          "base_uri": "https://localhost:8080/",
          "height": 276
        },
        "id": "Q03ge0qDvpKs",
        "outputId": "040075eb-8414-4a39-fb76-b533277fbee8"
      },
      "execution_count": null,
      "outputs": [
        {
          "output_type": "execute_result",
          "data": {
            "image/jpeg": "[encoded data removed]",
            "text/plain": [
              "<IPython.core.display.Image object>"
            ]
          },
          "metadata": {},
          "execution_count": 8
        }
      ]
    },
    {
      "cell_type": "markdown",
      "source": [
        "## DNA sequence"
      ],
      "metadata": {
        "id": "XjrzojoC2z2E"
      }
    },
    {
      "cell_type": "code",
      "source": [
        "query = \"AAGCTAGCTAGC\"\n",
        "query_url = f\"http://api.wolframalpha.com/v2/query?\" \\\n",
        "            f\"appid={appid}\" \\\n",
        "            f\"&input={query}\" \\\n",
        "            f\"&scanner=Genome\" \\\n",
        "            f\"&output=json\" \\\n",
        "            f\"&includepodid=Length\" \\\n",
        "            f\"&includepodid=AminoAcidSequence\" \\\n",
        "            f\"&includepodid=MeltingTemperature\" \\\n",
        "\n",
        "r = requests.get(query_url).json()\n",
        "\n",
        "pods = r[\"queryresult\"][\"pods\"]\n",
        "\n",
        "length = {\n",
        "    \"title\": pods[0][\"title\"],\n",
        "    \"value\": pods[0][\"subpods\"][0][\"plaintext\"]\n",
        "}\n",
        "amino_sequence = {\n",
        "    \"title\": pods[1][\"title\"],\n",
        "    \"value\": pods[1][\"subpods\"][0][\"plaintext\"].replace(\") \", \")\\n\")\n",
        "}\n",
        "melting_temp = {\n",
        "    \"title\": pods[2][\"title\"],\n",
        "    \"value\": pods[2][\"subpods\"][0][\"plaintext\"]\n",
        "}\n",
        "\n",
        "print(f\"{length['title']}: {length['value']}\\n\")\n",
        "print(f\"{amino_sequence['title']}:\\n {amino_sequence['value']}\\n\")\n",
        "print(f\"{melting_temp['title']}: {melting_temp['value']}\")"
      ],
      "metadata": {
        "colab": {
          "base_uri": "https://localhost:8080/"
        },
        "id": "wTRFDDOju_wD",
        "outputId": "8a4cfc37-667a-4ade-c260-6dfdff00d918"
      },
      "execution_count": null,
      "outputs": [
        {
          "output_type": "stream",
          "name": "stdout",
          "text": [
            "Length: 12 base pairs\n",
            "\n",
            "Amino acid sequence:\n",
            " (5'-3' frame 1)\n",
            "| AAG | CUA | GCU | AGC\n",
            "↓ | ↓ | ↓ | ↓\n",
            "Lys | Leu | Ala | Ser\n",
            "\n",
            "Oligonucleotide melting temperature: 48.5 °C (degrees Celsius)\n",
            "(under standard PCR conditions)\n"
          ]
        }
      ]
    },
    {
      "cell_type": "markdown",
      "source": [
        "## Natural Language (Spoken) Answers"
      ],
      "metadata": {
        "id": "cbUyrqXC22ol"
      }
    },
    {
      "cell_type": "code",
      "source": [
        "question = \"what is the most spoken language in the world?\"\n",
        "query_url = f\"http://api.wolframalpha.com/v1/spoken?\" \\\n",
        "            f\"appid={appid}\" \\\n",
        "            f\"&i={question}\" \\\n",
        "\n",
        "r = requests.get(query_url)\n",
        "\n",
        "print(r.text)\n"
      ],
      "metadata": {
        "id": "5vDJEwKOvu3_",
        "colab": {
          "base_uri": "https://localhost:8080/"
        },
        "outputId": "67081091-ac4e-480a-9d1e-1c371b50204a"
      },
      "execution_count": null,
      "outputs": [
        {
          "output_type": "stream",
          "name": "stdout",
          "text": [
            "The most spoken language by total number of speakers is English. The total number of English speakers is about 1.27 billion people\n"
          ]
        }
      ]
    },
    {
      "cell_type": "markdown",
      "source": [
        "## Chatting with Conversation API"
      ],
      "metadata": {
        "id": "jJuYht6V27ia"
      }
    },
    {
      "cell_type": "code",
      "source": [
        "question = \"Where are Falkland Islands?\"\n",
        "location = \"47.01,16.93\"\n",
        "query_url = f\"http://api.wolframalpha.com/v1/conversation.jsp?\" \\\n",
        "            f\"appid={appid}\" \\\n",
        "            f\"&geolocation={appid}\" \\\n",
        "            f\"&i={question}\" \\\n",
        "\n",
        "r = requests.get(query_url).json()\n",
        "answer = r[\"result\"]\n",
        "conversation_id = r[\"conversationID\"]\n",
        "host = r[\"host\"]\n",
        "\n",
        "print(f\"{question}: '{answer}'\")\n",
        "\n",
        "followup_question = \"How far is it from here?\"\n",
        "query_url = f\"http://{host}/api/v1/conversation.jsp?\" \\\n",
        "            f\"appid={appid}\" \\\n",
        "            f\"&conversationID={conversation_id}\" \\\n",
        "            f\"&i={followup_question}\" \\\n",
        "\n",
        "r = requests.get(query_url).json()\n",
        "answer = r[\"result\"]\n",
        "print(f\"{followup_question}: '{answer}'\")"
      ],
      "metadata": {
        "id": "sg47izwLvxSn",
        "colab": {
          "base_uri": "https://localhost:8080/"
        },
        "outputId": "c4d13c57-e462-4318-8ad4-2111adc4281e"
      },
      "execution_count": null,
      "outputs": [
        {
          "output_type": "stream",
          "name": "stdout",
          "text": [
            "Where are Falkland Islands?: 'The Falkland Islands is in South America.'\n",
            "How far is it from here?: 'The answer is about 5959 miles.'\n"
          ]
        }
      ]
    },
    {
      "cell_type": "markdown",
      "source": [
        "# Part II: Practice\n",
        "\n",
        "---\n",
        "\n"
      ],
      "metadata": {
        "id": "ZWEqjwtv29iu"
      }
    },
    {
      "cell_type": "markdown",
      "source": [
        "### Conversational API"
      ],
      "metadata": {
        "id": "Yb_JRrAD3Sov"
      }
    },
    {
      "cell_type": "code",
      "source": [
        "#-- Created by Nhi Luu\n",
        "\n",
        "question = \"What is the high temerature today in Silver Spring, Maryland\"\n",
        "question_fmt = urllib.parse.quote_plus(question)\n",
        "query_url = f\"http://api.wolframalpha.com/v1/conversation.jsp?\" \\\n",
        "            f\"appid={appid}\" \\\n",
        "            f\"&i={question_fmt}\" \\\n",
        "\n",
        "# print(query_url)\n",
        "r = requests.get(query_url).json()\n",
        "answer = r[\"result\"]\n",
        "conversation_id = r[\"conversationID\"]\n",
        "host = r[\"host\"]\n",
        "# print(r)\n",
        "print(f\"{question}:'{answer}'\")\n",
        "\n",
        "followup_question = 'What about the low temperature in Silver Spring, Maryland?'\n",
        "followup_question_fmt = urllib.parse.quote_plus(followup_question)\n",
        "query_url = f\"http://{host}/api/v1/conversation.jsp?\" \\\n",
        "            f\"appid={appid}\" \\\n",
        "            f\"&conversationID={conversation_id}\" \\\n",
        "            f\"&i={followup_question_fmt}\"\n",
        "# print(query_url)\n",
        "r = requests.get(query_url).json()\n",
        "answer = r[\"result\"]\n",
        "conversation_id = r[\"conversationID\"]\n",
        "host = r[\"host\"]\n",
        "#print(r)\n",
        "\n",
        "print(f\"{followup_question}: '{answer}'\")\n"
      ],
      "metadata": {
        "colab": {
          "base_uri": "https://localhost:8080/"
        },
        "id": "OKkIL8kKH-NG",
        "outputId": "46df4d3e-cffa-4451-afcf-a6f8a3f26aee"
      },
      "execution_count": null,
      "outputs": [
        {
          "output_type": "stream",
          "name": "stdout",
          "text": [
            "What is the high temerature today in Silver Spring, Maryland:'On Saturday, November 12, 2022, the maximum temperature in Silver Spring, Maryland, was 71 degrees Fahrenheit.'\n",
            "What about the low temperature in Silver Spring, Maryland?: 'For Saturday, November 12, 2022, the minimum temperature in Silver Spring, Maryland, is 60 degrees Fahrenheit.'\n"
          ]
        }
      ]
    },
    {
      "cell_type": "code",
      "source": [
        "question = \"What is the distance from the Earth to the moon\"\n",
        "question_fmt = urllib.parse.quote_plus(question)\n",
        "query_url = f\"http://api.wolframalpha.com/v1/conversation.jsp?\" \\\n",
        "            f\"appid={appid}\" \\\n",
        "            f\"&i={question_fmt}\" \\\n",
        "\n",
        "#print(query_url)\n",
        "r = requests.get(query_url).json()\n",
        "answer = r[\"result\"]\n",
        "conversation_id = r[\"conversationID\"]\n",
        "host = r[\"host\"]\n",
        "# print(r)\n",
        "print(f\"{question}: '{answer}'\")\n",
        "\n",
        "followup_question = 'What is that in killometers'\n",
        "followup_question_fmt = urllib.parse.quote_plus(followup_question)\n",
        "query_url = f\"http://{host}/api/v1/conversation.jsp?\" \\\n",
        "            f\"appid={appid}\" \\\n",
        "            f\"&conversationID={conversation_id}\" \\\n",
        "            f\"&i={followup_question_fmt}\"\n",
        "#print(query_url)\n",
        "r = requests.get(query_url).json()\n",
        "answer = r[\"result\"]\n",
        "conversation_id = r[\"conversationID\"]\n",
        "host = r[\"host\"]\n",
        "# print(r)\n",
        "\n",
        "print(f\"{followup_question}: '{answer}'\")\n"
      ],
      "metadata": {
        "colab": {
          "base_uri": "https://localhost:8080/"
        },
        "id": "C98SnU0rSpRO",
        "outputId": "c0bbedb6-6a98-45a7-ee90-1d9784c7c2f5"
      },
      "execution_count": null,
      "outputs": [
        {
          "output_type": "stream",
          "name": "stdout",
          "text": [
            "What is the distance from the Earth to the moon: 'The distance from Earth to the Moon at 3:34 P.M. Eastern Standard Time, Saturday, November 12, 2022 is about 250906 miles.'\n",
            "What is that in killometers: 'The distance from Earth to the Moon at 3:34 P.M. Eastern Standard Time, Saturday, November 12, 2022 is about 403793 kilometers.'\n"
          ]
        }
      ]
    },
    {
      "cell_type": "markdown",
      "source": [
        "## Full Results API"
      ],
      "metadata": {
        "id": "L5weyu4x3L5A"
      }
    },
    {
      "cell_type": "code",
      "source": [
        "equation = \"f(x)=15x^(100)−3x^(12)+5x−46\"\n",
        "query = urllib.parse.quote_plus(f\"differentiate {equation}\")\n",
        "query_url = f\"http://api.wolframalpha.com/v2/query?\" \\\n",
        "            f\"appid={appid}\" \\\n",
        "            f\"&input={query}\" \\\n",
        "            f\"&includepodid=Result\" \\\n",
        "            f\"&output=json\"\n",
        "\n",
        "r = requests.get(query_url).json()\n",
        "\n",
        "data = r[\"queryresult\"][\"pods\"][0][\"subpods\"][0]\n",
        "differentiation = data[\"plaintext\"]\n",
        "\n",
        "#---------\n",
        "equation = \"f(x)=15x^(100)−3x^(12)+5x−46\"\n",
        "query = urllib.parse.quote_plus(f\"solve {equation}\")\n",
        "query_url = f\"http://api.wolframalpha.com/v2/query?\" \\\n",
        "            f\"appid={appid}\" \\\n",
        "            f\"&input={query}\" \\\n",
        "            f\"&includepodid=Result\" \\\n",
        "            f\"&output=json\"\n",
        "\n",
        "r = requests.get(query_url).json()\n",
        "\n",
        "data = r[\"queryresult\"][\"pods\"][0][\"subpods\"][0]\n",
        "x = data[\"plaintext\"]\n",
        "\n",
        "print(f\"First derivative of {equation} is:\\n {differentiation}\\n=> {x}\")"
      ],
      "metadata": {
        "colab": {
          "base_uri": "https://localhost:8080/"
        },
        "id": "CzDKpDCj3UdI",
        "outputId": "e66eb6bb-536c-4311-a2ed-c254d518a727"
      },
      "execution_count": null,
      "outputs": [
        {
          "output_type": "stream",
          "name": "stdout",
          "text": [
            "First derivative of f(x)=15x^(100)−3x^(12)+5x−46 is:\n",
            " f'(x) = 1500 x^99 - 36 x^11 + 5\n",
            "=> x ≈ -1.01300\n"
          ]
        }
      ]
    },
    {
      "cell_type": "code",
      "source": [
        "question = \"Who is Rowan Atkinson?\"\n",
        "query = urllib.parse.quote_plus(f\"{question}\")\n",
        "query_url = f\"http://api.wolframalpha.com/v2/query?\" \\\n",
        "            f\"appid={appid}\" \\\n",
        "            f\"&input={query}\" \\\n",
        "            f\"&i={question}\" \\\n",
        "            \"&format=image,plaintext\" \\\n",
        "            \"&output=json\"\n",
        "r = requests.get(query_url).json()\n",
        "\n",
        "#Use pod index 4 for Notable facts\n",
        "data = r[\"queryresult\"][\"pods\"][4][\"subpods\"][0]\n",
        "plaintext = data[\"plaintext\"]\n",
        "\n",
        "print(f\"{question}?\\n{plaintext}.\")\n",
        "\n",
        "img_url =r[\"queryresult\"][\"pods\"][2]['subpods'][0]['img']['src']\n",
        "\n",
        "img_name = \"search_image.jpg\"\n",
        "img_data = requests.get(img_url).content\n",
        "with open(img_name, 'wb') as handler:\n",
        "    handler.write(img_data)\n",
        "    print(f\"Searched Image Saved to {img_name}.\")\n",
        "\n",
        "display.Image(\"/content/search_image.jpg\")"
      ],
      "metadata": {
        "colab": {
          "base_uri": "https://localhost:8080/",
          "height": 256
        },
        "id": "eAXd5egw4pwW",
        "outputId": "d9d7b2c5-4e10-49cd-b3ee-a4fcf48d6b51"
      },
      "execution_count": null,
      "outputs": [
        {
          "output_type": "stream",
          "name": "stdout",
          "text": [
            "Who is Rowan Atkinson??\n",
            "Actor and comedian best known for his role in the Blackadder television sitcom and for his portrayal of Mr. Bean on television and in film\n",
            "Cast member of the sketch television show Not The Nine O'Clock News\n",
            "Starred in the television sitcom The Thin Blue Line and the Johnny English series of films.\n",
            "Searched Image Saved to search_image.jpg.\n"
          ]
        },
        {
          "output_type": "execute_result",
          "data": {
            "image/jpeg": "[encoded data removed]",
            "text/plain": [
              "<IPython.core.display.Image object>"
            ]
          },
          "metadata": {},
          "execution_count": 20
        }
      ]
    }
  ]
}